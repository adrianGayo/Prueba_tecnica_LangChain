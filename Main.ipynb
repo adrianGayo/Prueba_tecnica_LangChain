{
 "cells": [
  {
   "cell_type": "markdown",
   "metadata": {},
   "source": [
    "# Adrián Gayo Andrés"
   ]
  },
  {
   "cell_type": "markdown",
   "metadata": {},
   "source": [
    "## Enunciado\n",
    "Se propone la creación de un prototipo con varios\n",
    "agentes que permita extraer publicaciones científicas de ArXiv y las publique en X.\n",
    "En el ITCL se busca desarrollar una herramienta basada en un sistema de agentes cuyo\n",
    "objetivo principal es permitir que los usuarios accedan a ArXiv a través de una API,\n",
    "utilizando una interfaz de chat que funcione mediante lenguaje natural. Además, el sistema\n",
    "debe ofrecer la posibilidad de que los usuarios publiquen, de forma sencilla y en cualquier\n",
    "momento, los contenidos de una o varias investigaciones en la plataforma X. Este sistema\n",
    "estará diseñado para ser semiautónomo, pero siempre bajo la supervisión directa del\n",
    "usuario.\n"
   ]
  },
  {
   "cell_type": "markdown",
   "metadata": {},
   "source": [
    "### Imports"
   ]
  },
  {
   "cell_type": "code",
   "execution_count": null,
   "metadata": {},
   "outputs": [],
   "source": [
    "# %pip install arxiv\n",
    "# %pip install langchain\n",
    "# %pip install langgraph\n",
    "# %pip install chromadb \n",
    "# %pip install cohere\n",
    "# %pip install tweepy \n",
    "# %pip install gradio\n",
    "# %pip install openai"
   ]
  },
  {
   "cell_type": "code",
   "execution_count": 5,
   "metadata": {},
   "outputs": [
    {
     "name": "stdout",
     "output_type": "stream",
     "text": [
      "0.3.14\n"
     ]
    }
   ],
   "source": [
    "import arxiv\n",
    "import langchain as lc\n",
    "import langgraph\n",
    "import tweepy as tw\n",
    "import openai \n",
    "import chromadb as cdb\n",
    "import cohere as ch\n",
    "import gradio as gr\n",
    "import os\n",
    "from dotenv import load_dotenv\n",
    "import pandas as pd\n",
    "\n",
    "print(lc.__version__)\n"
   ]
  },
  {
   "cell_type": "markdown",
   "metadata": {},
   "source": [
    "### ArXiV API prueba"
   ]
  },
  {
   "cell_type": "code",
   "execution_count": 6,
   "metadata": {},
   "outputs": [
    {
     "name": "stdout",
     "output_type": "stream",
     "text": [
      "Coming full circle -- A unified framework for Kochen-Specker contextuality\n",
      "Exact Parent Hamiltonians for All Landau Level States in a Half-flux Lattice\n",
      "Partonic distribution functions and amplitudes using tensor network methods\n",
      "Bidirectional microwave-optical conversion using an integrated barium-titanate transducer\n",
      "Hybridization between surface flat bands and bulk bands in the topological nodal-line semimetal Sn$_{0.15}$NbSe$_{1.75}$ probed via soft-point-contact spectroscopy\n",
      "Running EFT-hedron with null constraints at loop level\n",
      "Large moiré superstructure of stacked incommensurate charge density waves\n",
      "Converse bounds for quantum hypothesis exclusion: A divergence-radius approach\n",
      "Belavkin-Staszewski Quantum Markov Chains\n",
      "Sample-based Krylov Quantum Diagonalization\n"
     ]
    }
   ],
   "source": [
    "# Iinicializamos el cliente de arXiv\n",
    "arxiv_client = arxiv.Client()\n",
    "\n",
    "# Query de ejemplo con la palabra \"quantum.\"\n",
    "search = arxiv.Search(\n",
    "  query = \"quantum\",\n",
    "  max_results = 10,\n",
    "  sort_by = arxiv.SortCriterion.SubmittedDate\n",
    ")\n",
    "\n",
    "# Obtenemos los resultados de la búsqueda\n",
    "results = arxiv_client.results(search)\n",
    "\n",
    "# Mostremos los resultados.\n",
    "for r in arxiv_client.results(search):\n",
    "  print(r.title)\n",
    "  "
   ]
  },
  {
   "cell_type": "code",
   "execution_count": 11,
   "metadata": {},
   "outputs": [
    {
     "data": {
      "text/plain": [
       "'./pdfs/Coming full circle -- A unified framework for Kochen-Specker contextuality.pdf'"
      ]
     },
     "execution_count": 11,
     "metadata": {},
     "output_type": "execute_result"
    }
   ],
   "source": [
    "# También podemos descargar el PDF de un artículo.\n",
    "paper = next(arxiv_client.results(search))\n",
    "# Creamos un directorio para almacenar los PDFs en caso de que no exista.\n",
    "os.makedirs(\"pdfs\", exist_ok=True)\n",
    "# Download the PDF to the PWD with a custom filename.\n",
    "paper.download_pdf(filename=\"pdfs/\" + paper.title + \".pdf\")"
   ]
  },
  {
   "cell_type": "markdown",
   "metadata": {},
   "source": [
    "### X API prueba (tweepy)"
   ]
  },
  {
   "cell_type": "code",
   "execution_count": 19,
   "metadata": {},
   "outputs": [
    {
     "ename": "Forbidden",
     "evalue": "403 Forbidden\nYour client app is not configured with the appropriate oauth1 app permissions for this endpoint.",
     "output_type": "error",
     "traceback": [
      "\u001b[1;31m---------------------------------------------------------------------------\u001b[0m",
      "\u001b[1;31mForbidden\u001b[0m                                 Traceback (most recent call last)",
      "Cell \u001b[1;32mIn[19], line 14\u001b[0m\n\u001b[0;32m     10\u001b[0m x_client \u001b[38;5;241m=\u001b[39m tw\u001b[38;5;241m.\u001b[39mClient(consumer_key\u001b[38;5;241m=\u001b[39mtwitter_api_key, consumer_secret\u001b[38;5;241m=\u001b[39mtwitter_api_secret, access_token\u001b[38;5;241m=\u001b[39mtwitter_access_token, access_token_secret\u001b[38;5;241m=\u001b[39mtwitter_access_token_secret)\n\u001b[0;32m     12\u001b[0m \u001b[38;5;66;03m# Publicamos un tweet de prueba\u001b[39;00m\n\u001b[0;32m     13\u001b[0m \u001b[38;5;66;03m#api.update_status(\"Hello, world!\")\u001b[39;00m\n\u001b[1;32m---> 14\u001b[0m response \u001b[38;5;241m=\u001b[39m x_client\u001b[38;5;241m.\u001b[39mcreate_tweet(\n\u001b[0;32m     15\u001b[0m     text\u001b[38;5;241m=\u001b[39m\u001b[38;5;124m\"\u001b[39m\u001b[38;5;124mHello, world!\u001b[39m\u001b[38;5;124m\"\u001b[39m\n\u001b[0;32m     16\u001b[0m )\n\u001b[0;32m     17\u001b[0m \u001b[38;5;28mprint\u001b[39m(\u001b[38;5;124mf\u001b[39m\u001b[38;5;124m\"\u001b[39m\u001b[38;5;124mhttps://twitter.com/user/status/\u001b[39m\u001b[38;5;132;01m{\u001b[39;00mresponse\u001b[38;5;241m.\u001b[39mdata[\u001b[38;5;124m'\u001b[39m\u001b[38;5;124mid\u001b[39m\u001b[38;5;124m'\u001b[39m]\u001b[38;5;132;01m}\u001b[39;00m\u001b[38;5;124m\"\u001b[39m)\n",
      "File \u001b[1;32mc:\\Users\\adria\\anaconda3\\Lib\\site-packages\\tweepy\\client.py:839\u001b[0m, in \u001b[0;36mClient.create_tweet\u001b[1;34m(self, direct_message_deep_link, for_super_followers_only, place_id, media_ids, media_tagged_user_ids, poll_duration_minutes, poll_options, quote_tweet_id, exclude_reply_user_ids, in_reply_to_tweet_id, reply_settings, text, user_auth)\u001b[0m\n\u001b[0;32m    836\u001b[0m \u001b[38;5;28;01mif\u001b[39;00m text \u001b[38;5;129;01mis\u001b[39;00m \u001b[38;5;129;01mnot\u001b[39;00m \u001b[38;5;28;01mNone\u001b[39;00m:\n\u001b[0;32m    837\u001b[0m     json[\u001b[38;5;124m\"\u001b[39m\u001b[38;5;124mtext\u001b[39m\u001b[38;5;124m\"\u001b[39m] \u001b[38;5;241m=\u001b[39m text\n\u001b[1;32m--> 839\u001b[0m \u001b[38;5;28;01mreturn\u001b[39;00m \u001b[38;5;28mself\u001b[39m\u001b[38;5;241m.\u001b[39m_make_request(\n\u001b[0;32m    840\u001b[0m     \u001b[38;5;124m\"\u001b[39m\u001b[38;5;124mPOST\u001b[39m\u001b[38;5;124m\"\u001b[39m, \u001b[38;5;124mf\u001b[39m\u001b[38;5;124m\"\u001b[39m\u001b[38;5;124m/2/tweets\u001b[39m\u001b[38;5;124m\"\u001b[39m, json\u001b[38;5;241m=\u001b[39mjson, user_auth\u001b[38;5;241m=\u001b[39muser_auth\n\u001b[0;32m    841\u001b[0m )\n",
      "File \u001b[1;32mc:\\Users\\adria\\anaconda3\\Lib\\site-packages\\tweepy\\client.py:129\u001b[0m, in \u001b[0;36mBaseClient._make_request\u001b[1;34m(self, method, route, params, endpoint_parameters, json, data_type, user_auth)\u001b[0m\n\u001b[0;32m    123\u001b[0m \u001b[38;5;28;01mdef\u001b[39;00m \u001b[38;5;21m_make_request\u001b[39m(\n\u001b[0;32m    124\u001b[0m     \u001b[38;5;28mself\u001b[39m, method, route, params\u001b[38;5;241m=\u001b[39m{}, endpoint_parameters\u001b[38;5;241m=\u001b[39m(), json\u001b[38;5;241m=\u001b[39m\u001b[38;5;28;01mNone\u001b[39;00m,\n\u001b[0;32m    125\u001b[0m     data_type\u001b[38;5;241m=\u001b[39m\u001b[38;5;28;01mNone\u001b[39;00m, user_auth\u001b[38;5;241m=\u001b[39m\u001b[38;5;28;01mFalse\u001b[39;00m\n\u001b[0;32m    126\u001b[0m ):\n\u001b[0;32m    127\u001b[0m     request_params \u001b[38;5;241m=\u001b[39m \u001b[38;5;28mself\u001b[39m\u001b[38;5;241m.\u001b[39m_process_params(params, endpoint_parameters)\n\u001b[1;32m--> 129\u001b[0m     response \u001b[38;5;241m=\u001b[39m \u001b[38;5;28mself\u001b[39m\u001b[38;5;241m.\u001b[39mrequest(method, route, params\u001b[38;5;241m=\u001b[39mrequest_params,\n\u001b[0;32m    130\u001b[0m                             json\u001b[38;5;241m=\u001b[39mjson, user_auth\u001b[38;5;241m=\u001b[39muser_auth)\n\u001b[0;32m    132\u001b[0m     \u001b[38;5;28;01mif\u001b[39;00m \u001b[38;5;28mself\u001b[39m\u001b[38;5;241m.\u001b[39mreturn_type \u001b[38;5;129;01mis\u001b[39;00m requests\u001b[38;5;241m.\u001b[39mResponse:\n\u001b[0;32m    133\u001b[0m         \u001b[38;5;28;01mreturn\u001b[39;00m response\n",
      "File \u001b[1;32mc:\\Users\\adria\\anaconda3\\Lib\\site-packages\\tweepy\\client.py:100\u001b[0m, in \u001b[0;36mBaseClient.request\u001b[1;34m(self, method, route, params, json, user_auth)\u001b[0m\n\u001b[0;32m     98\u001b[0m     \u001b[38;5;28;01mraise\u001b[39;00m Unauthorized(response)\n\u001b[0;32m     99\u001b[0m \u001b[38;5;28;01mif\u001b[39;00m response\u001b[38;5;241m.\u001b[39mstatus_code \u001b[38;5;241m==\u001b[39m \u001b[38;5;241m403\u001b[39m:\n\u001b[1;32m--> 100\u001b[0m     \u001b[38;5;28;01mraise\u001b[39;00m Forbidden(response)\n\u001b[0;32m    101\u001b[0m \u001b[38;5;28;01mif\u001b[39;00m response\u001b[38;5;241m.\u001b[39mstatus_code \u001b[38;5;241m==\u001b[39m \u001b[38;5;241m404\u001b[39m:\n\u001b[0;32m    102\u001b[0m     \u001b[38;5;28;01mraise\u001b[39;00m NotFound(response)\n",
      "\u001b[1;31mForbidden\u001b[0m: 403 Forbidden\nYour client app is not configured with the appropriate oauth1 app permissions for this endpoint."
     ]
    }
   ],
   "source": [
    "# Nos autenticamos en la API de Twitter\n",
    "load_dotenv()\n",
    "twitter_api_key = os.getenv(\"TWITTER_API_KEY\")\n",
    "twitter_api_secret = os.getenv(\"TWITTER_API_SECRET\")\n",
    "twitter_access_token = os.getenv(\"TWITTER_ACCESS_TOKEN\")\n",
    "twitter_access_token_secret = os.getenv(\"TWITTER_ACCESS_TOKEN_SECRET\")\n",
    "\n",
    "#auth = tw.OAuth1UserHandler(twitter_api_key, twitter_api_secret, twitter_access_token, twitter_access_token_secret)\n",
    "#api = tw.API(auth, wait_on_rate_limit=True)\n",
    "x_client = tw.Client(consumer_key=twitter_api_key, consumer_secret=twitter_api_secret, access_token=twitter_access_token, access_token_secret=twitter_access_token_secret)\n",
    "\n",
    "# Publicamos un tweet de prueba\n",
    "#api.update_status(\"Hello, world!\")\n",
    "response = x_client.create_tweet(\n",
    "    text=\"Hello, world!\"\n",
    ")\n",
    "print(f\"https://twitter.com/user/status/{response.data['id']}\")\n",
    "\n"
   ]
  },
  {
   "cell_type": "markdown",
   "metadata": {},
   "source": [
    "### Inicialización del modelo"
   ]
  },
  {
   "cell_type": "code",
   "execution_count": 3,
   "metadata": {},
   "outputs": [
    {
     "data": {
      "text/plain": [
       "'sk-1234567890abcdef1234567890abcdef'"
      ]
     },
     "execution_count": 3,
     "metadata": {},
     "output_type": "execute_result"
    }
   ],
   "source": [
    "from langchain.llms import OpenAI\n",
    "from langchain.embeddings import OpenAIEmbeddings\n",
    "\n",
    "# Parámetros\n",
    "MAX_TOKENS = 1000\n",
    "TEMPERATURE = 0.3\n",
    "MODEL= \"gpt-3.5-turbo\"\n",
    "EMBEDDING_MODEL = \"gpt-3.5-turbo\"\n",
    "\n",
    "# OpenAI API key\n",
    "load_dotenv()\n",
    "openai_api_key = os.getenv(\"OPENAI_API_KEY\")\n",
    "\n",
    "# Inicializamos el modelo de openai que vamos a utilizar con langchain.\n",
    "llm = OpenAI(\n",
    "    model=MODEL,  \n",
    "    temperature=TEMPERATURE,        \n",
    "    max_tokens=MAX_TOKENS,        \n",
    "    openai_api_key=openai_api_key  \n",
    ")\n",
    "\n",
    "# Inicializamos también el modelos de embeddings seleccionado.\n",
    "embeddings = OpenAIEmbeddings(    # (openai embeddings)\n",
    "    model=EMBEDDING_MODEL,  \n",
    "    openai_api_key=openai_api_key    \n",
    ")\n",
    "\n",
    "#  alternativa para obtener embeddings\n",
    "#"
   ]
  },
  {
   "cell_type": "code",
   "execution_count": null,
   "metadata": {},
   "outputs": [],
   "source": [
    "# Se define una función que permita monitorizar el coste de la llamada a la API de OpenAI.\n",
    "from langchain.callbacks import get_openai_callback\n",
    "\n",
    "def llamada_monitorizada(llm, texto):\n",
    "    \"\"\" Función que realiza una llamada al modelo de lenguaje especificado y monitoriza el coste de la llamada.\n",
    "    Args:\n",
    "        llm (OpenAI): Modelo de lenguaje\n",
    "        texto (str): Texto de entrada\n",
    "\n",
    "    Returns:\n",
    "        response (str): Texto de salida generado por el modelo de lenguaje\n",
    "    \"\"\"\n",
    "    \n",
    "    with get_openai_callback() as callback:\n",
    "        response = llm(texto)\n",
    "        \n",
    "        # Detalles de uso y coste de la llamada.\n",
    "        print(f\"Tokens usados: {callback.total_tokens}\")\n",
    "        print(f\"Coste de la llamada: ${callback.total_cost:.5f}\")\n",
    "        \n",
    "        return response\n"
   ]
  },
  {
   "cell_type": "markdown",
   "metadata": {},
   "source": [
    "### Declaración de herramientas"
   ]
  },
  {
   "cell_type": "markdown",
   "metadata": {},
   "source": [
    "#### Funciones"
   ]
  },
  {
   "cell_type": "code",
   "execution_count": 20,
   "metadata": {},
   "outputs": [],
   "source": [
    "def buscar_publicaciones_arxiv(consulta: str, max_resultados: int = 3) -> object:\n",
    "    \"\"\"\n",
    "    Busca publicaciones científicas en arXiv según una consulta del usuario.\n",
    "    \n",
    "    Args:\n",
    "        consulta (str): El término de búsqueda para arXiv.\n",
    "        max_resultados (int): Número máximo de publicaciones a devolver.\n",
    "\n",
    "    Returns:\n",
    "        PDFs de las publicaciones encontradas.\n",
    "    \"\"\"\n",
    "    try:\n",
    "        # Iinicializamos el cliente de arXiv\n",
    "        arxiv_client = arxiv.Client()\n",
    "\n",
    "        # Realizar la consulta a arXiv\n",
    "        search = arxiv.Search(\n",
    "            query=consulta,\n",
    "            max_results=max_resultados,\n",
    "            sort_by=arxiv.SortCriterion.Relevance\n",
    "        )\n",
    "        \n",
    "        results = arxiv_client.results(search)\n",
    "        \n",
    "        if not results:\n",
    "            return \"No se encontraron publicaciones.\"\n",
    "        \n",
    "        for paper in results:\n",
    "            print(paper.title)\n",
    "            \n",
    "        return results\n",
    "          \n",
    "    except Exception as e:\n",
    "        return f\"Error al buscar en arXiv: {str(e)}\"\n",
    "    \n",
    "    \n",
    "def publicar_en_x(texto: str) -> str:\n",
    "    \"\"\"\n",
    "    Publica un texto en X (Twitter) utilizando la API de Tweepy.\n",
    "    \n",
    "    Args:\n",
    "        texto (str): El texto que se desea publicar en X.\n",
    "        api_key (str): La API Key de la cuenta de desarrollador de Twitter.\n",
    "        api_key_secret (str): El API Key Secret asociado.\n",
    "        access_token (str): El Access Token del usuario.\n",
    "        access_token_secret (str): El Access Token Secret asociado.\n",
    "    \n",
    "    Returns:\n",
    "        str: Mensaje de éxito o error.\n",
    "    \"\"\"\n",
    "    try:\n",
    "        load_dotenv()\n",
    "        twitter_api_key = os.getenv(\"TWITTER_API_KEY\")\n",
    "        twitter_api_secret = os.getenv(\"TWITTER_API_SECRET\")\n",
    "        twitter_access_token = os.getenv(\"TWITTER_ACCESS_TOKEN\")\n",
    "        twitter_access_token_secret = os.getenv(\"TWITTER_ACCESS_TOKEN_SECRET\")\n",
    "\n",
    "        #auth = tw.OAuth1UserHandler(twitter_api_key, twitter_api_secret, twitter_access_token, twitter_access_token_secret)\n",
    "        #api = tw.API(auth, wait_on_rate_limit=True)\n",
    "        x_client = tw.Client(consumer_key=twitter_api_key, consumer_secret=twitter_api_secret, access_token=twitter_access_token, access_token_secret=twitter_access_token_secret)\n",
    "        \n",
    "        response = x_client.create_tweet(\n",
    "            text=texto\n",
    "        )\n",
    "        \n",
    "        return response.status_code\n",
    "    \n",
    "    except Exception as e:\n",
    "        return f\"Error al publicar el tweet: {e.response.text}\""
   ]
  },
  {
   "cell_type": "markdown",
   "metadata": {},
   "source": [
    "#### Tools"
   ]
  },
  {
   "cell_type": "code",
   "execution_count": 21,
   "metadata": {},
   "outputs": [
    {
     "ename": "PydanticUserError",
     "evalue": "Field 'name' defined on a base class was overridden by a non-annotated attribute. All field definitions, including overrides, require a type annotation.\n\nFor further information visit https://errors.pydantic.dev/2.8/u/model-field-overridden",
     "output_type": "error",
     "traceback": [
      "\u001b[1;31m---------------------------------------------------------------------------\u001b[0m",
      "\u001b[1;31mPydanticUserError\u001b[0m                         Traceback (most recent call last)",
      "Cell \u001b[1;32mIn[21], line 3\u001b[0m\n\u001b[0;32m      1\u001b[0m \u001b[38;5;28;01mfrom\u001b[39;00m \u001b[38;5;21;01mlangchain\u001b[39;00m\u001b[38;5;21;01m.\u001b[39;00m\u001b[38;5;21;01mtools\u001b[39;00m \u001b[38;5;28;01mimport\u001b[39;00m BaseTool\n\u001b[1;32m----> 3\u001b[0m \u001b[38;5;28;01mclass\u001b[39;00m \u001b[38;5;21;01mArXiVSearchTool\u001b[39;00m(BaseTool):\n\u001b[0;32m      4\u001b[0m \u001b[38;5;250m    \u001b[39m\u001b[38;5;124;03m\"\"\"Herramienta de busqueda de artículos científicos en arXiv.\"\"\"\u001b[39;00m\n\u001b[0;32m      6\u001b[0m     name \u001b[38;5;241m=\u001b[39m \u001b[38;5;124m\"\u001b[39m\u001b[38;5;124mArXiVSearchTool\u001b[39m\u001b[38;5;124m\"\u001b[39m\n",
      "File \u001b[1;32mc:\\Users\\adria\\anaconda3\\Lib\\site-packages\\pydantic\\_internal\\_model_construction.py:96\u001b[0m, in \u001b[0;36mModelMetaclass.__new__\u001b[1;34m(mcs, cls_name, bases, namespace, __pydantic_generic_metadata__, __pydantic_reset_parent_namespace__, _create_model_module, **kwargs)\u001b[0m\n\u001b[0;32m     94\u001b[0m config_wrapper \u001b[38;5;241m=\u001b[39m ConfigWrapper\u001b[38;5;241m.\u001b[39mfor_model(bases, namespace, kwargs)\n\u001b[0;32m     95\u001b[0m namespace[\u001b[38;5;124m'\u001b[39m\u001b[38;5;124mmodel_config\u001b[39m\u001b[38;5;124m'\u001b[39m] \u001b[38;5;241m=\u001b[39m config_wrapper\u001b[38;5;241m.\u001b[39mconfig_dict\n\u001b[1;32m---> 96\u001b[0m private_attributes \u001b[38;5;241m=\u001b[39m inspect_namespace(\n\u001b[0;32m     97\u001b[0m     namespace, config_wrapper\u001b[38;5;241m.\u001b[39mignored_types, class_vars, base_field_names\n\u001b[0;32m     98\u001b[0m )\n\u001b[0;32m     99\u001b[0m \u001b[38;5;28;01mif\u001b[39;00m private_attributes \u001b[38;5;129;01mor\u001b[39;00m base_private_attributes:\n\u001b[0;32m    100\u001b[0m     original_model_post_init \u001b[38;5;241m=\u001b[39m get_model_post_init(namespace, bases)\n",
      "File \u001b[1;32mc:\\Users\\adria\\anaconda3\\Lib\\site-packages\\pydantic\\_internal\\_model_construction.py:391\u001b[0m, in \u001b[0;36minspect_namespace\u001b[1;34m(namespace, ignored_types, base_class_vars, base_class_fields)\u001b[0m\n\u001b[0;32m    389\u001b[0m \u001b[38;5;28;01melif\u001b[39;00m var_name \u001b[38;5;129;01mnot\u001b[39;00m \u001b[38;5;129;01min\u001b[39;00m raw_annotations:\n\u001b[0;32m    390\u001b[0m     \u001b[38;5;28;01mif\u001b[39;00m var_name \u001b[38;5;129;01min\u001b[39;00m base_class_fields:\n\u001b[1;32m--> 391\u001b[0m         \u001b[38;5;28;01mraise\u001b[39;00m PydanticUserError(\n\u001b[0;32m    392\u001b[0m             \u001b[38;5;124mf\u001b[39m\u001b[38;5;124m'\u001b[39m\u001b[38;5;124mField \u001b[39m\u001b[38;5;132;01m{\u001b[39;00mvar_name\u001b[38;5;132;01m!r}\u001b[39;00m\u001b[38;5;124m defined on a base class was overridden by a non-annotated attribute. \u001b[39m\u001b[38;5;124m'\u001b[39m\n\u001b[0;32m    393\u001b[0m             \u001b[38;5;124mf\u001b[39m\u001b[38;5;124m'\u001b[39m\u001b[38;5;124mAll field definitions, including overrides, require a type annotation.\u001b[39m\u001b[38;5;124m'\u001b[39m,\n\u001b[0;32m    394\u001b[0m             code\u001b[38;5;241m=\u001b[39m\u001b[38;5;124m'\u001b[39m\u001b[38;5;124mmodel-field-overridden\u001b[39m\u001b[38;5;124m'\u001b[39m,\n\u001b[0;32m    395\u001b[0m         )\n\u001b[0;32m    396\u001b[0m     \u001b[38;5;28;01melif\u001b[39;00m \u001b[38;5;28misinstance\u001b[39m(value, FieldInfo):\n\u001b[0;32m    397\u001b[0m         \u001b[38;5;28;01mraise\u001b[39;00m PydanticUserError(\n\u001b[0;32m    398\u001b[0m             \u001b[38;5;124mf\u001b[39m\u001b[38;5;124m'\u001b[39m\u001b[38;5;124mField \u001b[39m\u001b[38;5;132;01m{\u001b[39;00mvar_name\u001b[38;5;132;01m!r}\u001b[39;00m\u001b[38;5;124m requires a type annotation\u001b[39m\u001b[38;5;124m'\u001b[39m, code\u001b[38;5;241m=\u001b[39m\u001b[38;5;124m'\u001b[39m\u001b[38;5;124mmodel-field-missing-annotation\u001b[39m\u001b[38;5;124m'\u001b[39m\n\u001b[0;32m    399\u001b[0m         )\n",
      "\u001b[1;31mPydanticUserError\u001b[0m: Field 'name' defined on a base class was overridden by a non-annotated attribute. All field definitions, including overrides, require a type annotation.\n\nFor further information visit https://errors.pydantic.dev/2.8/u/model-field-overridden"
     ]
    }
   ],
   "source": [
    "from langchain.tools import BaseTool\n",
    "\n",
    "class ArXiVSearchTool(BaseTool):\n",
    "    \"\"\"Herramienta de busqueda de artículos científicos en arXiv.\"\"\"\n",
    "    \n",
    "    name = \"ArXiVSearchTool\"\n",
    "    description = (\n",
    "        \"Searches for scientific publications in arXiv related to a specific topic. \"\n",
    "        \"It provides a summary of the publications, including title, authors, and links. \"\n",
    "        \"Use this when scientific information is needed.\"\n",
    "    )\n",
    "\n",
    "    def _run(self, consulta: str, max_resultados: int = 3) -> str:\n",
    "        \"\"\"Synchronous logic for executing the tool.\"\"\"\n",
    "        try:\n",
    "            # Realizar la consulta a arXiv\n",
    "            return buscar_publicaciones_arxiv(consulta, max_resultados)\n",
    "        \n",
    "        except Exception as e:\n",
    "            return f\"An error occurred: {str(e)}\"\n",
    "\n",
    "    async def _arun(self, consulta: str, max_resultados: int = 3) -> str:\n",
    "        \"\"\"Asynchronous logic for executing the tool.\"\"\"\n",
    "        raise NotImplementedError(\"This tool does not support asynchronous operations.\")\n",
    "\n",
    "\n",
    "class TwitterPostTool(BaseTool):\n",
    "    \"\"\"Herramienta para publicar texto en X(Twitter).\"\"\"\n",
    "    \n",
    "    name = \"TwitterPostTool\"\n",
    "    description = (\n",
    "        \"Posts a message on X(Twitter). \"\n",
    "        \"Use this to share a message given a in your X account.\"\n",
    "    )\n",
    "    \n",
    "    def _run(self, texto: str) -> str:\n",
    "        \"\"\"Synchronous logic for executing the tool.\"\"\"\n",
    "        try:\n",
    "            return publicar_en_x(texto)\n",
    "        \n",
    "        except Exception as e:\n",
    "            return f\"An error occurred: {str(e)}\"\n",
    "    \n",
    "    async def _arun(self, texto: str) -> str:\n",
    "        \"\"\"Asynchronous logic for executing the tool.\"\"\"\n",
    "        raise NotImplementedError(\"This tool does not support asynchronous operations.\")"
   ]
  },
  {
   "cell_type": "markdown",
   "metadata": {},
   "source": [
    "### Grafo Multiagente"
   ]
  },
  {
   "cell_type": "code",
   "execution_count": null,
   "metadata": {},
   "outputs": [],
   "source": [
    "from langgraph.graph import Graph\n",
    "from langgraph.nodes import Node\n",
    "\n",
    "graph = Graph()\n",
    "\n",
    "# Añadimos los nodos de las herramientas al grafo.\n",
    "\n"
   ]
  },
  {
   "cell_type": "markdown",
   "metadata": {},
   "source": [
    "### Generación de base de datos vectorial"
   ]
  },
  {
   "cell_type": "code",
   "execution_count": 12,
   "metadata": {},
   "outputs": [],
   "source": [
    "# Se incializa el cliente y se crea una BBDD (collection)\n",
    "chroma_client = cdb.Client()\n",
    "\n",
    "# Crea la colección\n",
    "collection = chroma_client.create_collection(name=\"arxiv\")\n",
    "\n",
    "# Añade documentos a la colección\n",
    "collection.add(\n",
    "    documents=[\"ejemplo número 1\", \"ejemplo número 2\", \"ejemplo número 3\"],\n",
    "    metadatas=[{\"source\": \"arxiv\"}, {\"source\": \"arxiv\"}, {\"source\": \"arxiv\"}],\n",
    "    ids=[\"1\", \"2\", \"3\"]\n",
    ")"
   ]
  },
  {
   "cell_type": "markdown",
   "metadata": {},
   "source": [
    "### Front "
   ]
  },
  {
   "cell_type": "code",
   "execution_count": 16,
   "metadata": {},
   "outputs": [
    {
     "name": "stderr",
     "output_type": "stream",
     "text": [
      "c:\\Users\\adria\\anaconda3\\Lib\\site-packages\\gradio\\components\\chatbot.py:279: UserWarning: The 'tuples' format for chatbot messages is deprecated and will be removed in a future version of Gradio. Please set type='messages' instead, which uses openai-style 'role' and 'content' keys.\n",
      "  warnings.warn(\n"
     ]
    },
    {
     "name": "stdout",
     "output_type": "stream",
     "text": [
      "* Running on local URL:  http://127.0.0.1:7867\n",
      "\n",
      "To create a public link, set `share=True` in `launch()`.\n"
     ]
    },
    {
     "data": {
      "text/html": [
       "<div><iframe src=\"http://127.0.0.1:7867/\" width=\"100%\" height=\"500\" allow=\"autoplay; camera; microphone; clipboard-read; clipboard-write;\" frameborder=\"0\" allowfullscreen></iframe></div>"
      ],
      "text/plain": [
       "<IPython.core.display.HTML object>"
      ]
     },
     "metadata": {},
     "output_type": "display_data"
    },
    {
     "data": {
      "text/plain": []
     },
     "execution_count": 16,
     "metadata": {},
     "output_type": "execute_result"
    }
   ],
   "source": [
    "import gradio as gr\n",
    "\n",
    "def yes_man(message, history):\n",
    "    if message.endswith(\"?\"):\n",
    "        return \"Yes\"\n",
    "    else:\n",
    "        return \"Ask me anything!\"\n",
    "\n",
    "demo = gr.ChatInterface(\n",
    "    fn=yes_man,\n",
    "    title=\"MULTIAGENTE ARXIV RAG\",\n",
    "    description=\"Say hello to someone!\",\n",
    ")\n",
    "\n",
    "demo.launch()\n"
   ]
  }
 ],
 "metadata": {
  "kernelspec": {
   "display_name": "base",
   "language": "python",
   "name": "python3"
  },
  "language_info": {
   "codemirror_mode": {
    "name": "ipython",
    "version": 3
   },
   "file_extension": ".py",
   "mimetype": "text/x-python",
   "name": "python",
   "nbconvert_exporter": "python",
   "pygments_lexer": "ipython3",
   "version": "3.12.7"
  }
 },
 "nbformat": 4,
 "nbformat_minor": 2
}
